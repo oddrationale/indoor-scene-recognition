{
 "cells": [
  {
   "cell_type": "markdown",
   "metadata": {},
   "source": [
    "# IndoorCVPR Production Model"
   ]
  },
  {
   "cell_type": "markdown",
   "metadata": {},
   "source": [
    "![indoor classes](http://web.mit.edu/torralba/www/allIndoors.jpg)"
   ]
  },
  {
   "cell_type": "code",
   "execution_count": 1,
   "metadata": {},
   "outputs": [
    {
     "data": {
      "application/vnd.jupyter.widget-view+json": {
       "model_id": "dcfd60ad7b5d4d8a8cb915f3d9205a2e",
       "version_major": 2,
       "version_minor": 0
      },
      "text/plain": [
       "VBox(children=(HTML(value='<h3>Upload your image:</h3>'), HBox(children=(FileUpload(value={}, accept='image/*'…"
      ]
     },
     "metadata": {},
     "output_type": "display_data"
    }
   ],
   "source": [
    "from fastai.vision.all import *\n",
    "from fastai.vision.widgets import *\n",
    "\n",
    "learn_inf = load_learner(\"export50.pkl\")\n",
    "classes = learn_inf.dls.vocab\n",
    "\n",
    "btn_upload = widgets.FileUpload(accept=\"image/*\")\n",
    "out_pl = widgets.Image(width=300, height=400)\n",
    "btn_run = widgets.Button(description=\"Classify\")\n",
    "lbl_pred = widgets.HTML()\n",
    "\n",
    "\n",
    "def on_upload(change):\n",
    "    out_pl.value = change[\"new\"][-1]\n",
    "    lbl_pred.value = \"\"\n",
    "\n",
    "\n",
    "btn_upload.observe(on_upload, \"data\")\n",
    "\n",
    "\n",
    "def on_click_classify(change):\n",
    "    _, _, probs = learn_inf.predict(PILImage.create(btn_upload.data[-1]))\n",
    "    top_three = \"<br>\".join(\n",
    "        (\n",
    "            f\"{pred}: {prob:.04f}\"\n",
    "            for pred, prob in L(classes, probs).zip().sorted(1, reverse=True)[0:3]\n",
    "        )\n",
    "    )\n",
    "    lbl_pred.value = f\"<b>Top three predictions:</b><br>{top_three}\"\n",
    "    btn_upload._counter = 0\n",
    "\n",
    "\n",
    "btn_run.on_click(on_click_classify)\n",
    "\n",
    "VBox(\n",
    "    [\n",
    "        widgets.HTML(\"<h3>Upload your image:</h3>\"),\n",
    "        HBox([btn_upload, btn_run]),\n",
    "        out_pl,\n",
    "        lbl_pred,\n",
    "    ]\n",
    ")"
   ]
  }
 ],
 "metadata": {
  "kernelspec": {
   "display_name": "fastaiv2",
   "language": "python",
   "name": "fastaiv2"
  },
  "language_info": {
   "codemirror_mode": {
    "name": "ipython",
    "version": 3
   },
   "file_extension": ".py",
   "mimetype": "text/x-python",
   "name": "python",
   "nbconvert_exporter": "python",
   "pygments_lexer": "ipython3",
   "version": "3.8.5"
  }
 },
 "nbformat": 4,
 "nbformat_minor": 4
}
